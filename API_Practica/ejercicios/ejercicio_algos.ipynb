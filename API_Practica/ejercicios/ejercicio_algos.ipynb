{
 "cells": [
  {
   "cell_type": "markdown",
   "metadata": {},
   "source": [
    "# Ejercicio"
   ]
  },
  {
   "cell_type": "markdown",
   "metadata": {},
   "source": [
    "- Vamos a hacer un algoritmo que cada 200 días rebalancee todos los activos para tener el mismo porcertaje.\n",
    "- Estamos en modo backtesting: calculamos primero todas las allocations, las insertamos y ejecutamos el backtesting."
   ]
  },
  {
   "cell_type": "markdown",
   "metadata": {},
   "source": [
    "1. Descarga el maestro de valores.\n",
    "2. Descarga todos los datos para cada ticker del maestro. Baja solo el close.\n",
    "3. Con las series close, crea un datafame donde tengas como columnas los tickers y filas las fechas.\n",
    "4. Recorre este dataframe cada 200 filas y crea una lista de allocations con valor 1/n_activos. \n",
    "5. Envía el post de estos allocations.\n",
    "6. Usa la API para obtener todas las allocations introducidas.\n",
    "7. Usa la API para ejecutar el backtesting.\n",
    "8. Elimina todas las allocations.\n",
    "9. Refactoriza el código en una clase para el algoritmo y otra para un handler del API.\n",
    "10. Ejecutalo desde la terminal."
   ]
  }
 ],
 "metadata": {
  "kernelspec": {
   "display_name": "Python 3 (ipykernel)",
   "language": "python",
   "name": "python3"
  },
  "language_info": {
   "codemirror_mode": {
    "name": "ipython",
    "version": 3
   },
   "file_extension": ".py",
   "mimetype": "text/x-python",
   "name": "python",
   "nbconvert_exporter": "python",
   "pygments_lexer": "ipython3",
   "version": "3.11.6"
  }
 },
 "nbformat": 4,
 "nbformat_minor": 4
}
