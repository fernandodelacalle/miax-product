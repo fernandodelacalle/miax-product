{
 "cells": [
  {
   "cell_type": "markdown",
   "metadata": {},
   "source": [
    "## Instalación de librerías y entorno de programación con virtual enviroments"
   ]
  },
  {
   "cell_type": "markdown",
   "metadata": {},
   "source": [
    "### Requirements file\n",
    "- Los proyectos de python siempre van acompañados de un fichero que indica las librerias que se usan. Este fichero se denomina requirements.txt y dentro tiene la siguiente estructura:\n",
    "```\n",
    "jupyterlab==0.35.4\n",
    "numpy==1.16.3\n",
    "pandas==0.24.2\n",
    "```\n",
    "\n",
    "- Para instalar todas las requeridas para el proyecto:\n",
    "  - ```\n",
    "pip install -r requirements.txt\n",
    "```\n",
    "\n",
    "- Ver todas las librerías instaladas:\n",
    "  - ```\n",
    " pip freeze\n",
    "```\n",
    "- Guardar las instaladas en un fichero:\n",
    "  - ```\n",
    " pip freeze > requirements.txt\n",
    "```\n",
    "\n",
    "\n",
    "### Virtual enviroment\n",
    "\n",
    "- En muchas ocasiones las librerías de un proyecto a otro pueden variar (distintos requeriments.txt), por lo que es necesario instalar de manera aislada estas para que no creen conflictos.\n",
    "\n",
    "<center>\n",
    "<img src=\"./imgs/python_environment.png\"  alt=\"drawing\" width=\"600\"/>\n",
    "</center>\n",
    "\n",
    "\n",
    "- Esto se realiza empleando virtual enviroments.\n",
    "\n",
    "<center>\n",
    "<img src=\"./imgs/venv_2.png\"  alt=\"drawing\" width=\"600\"/>\n",
    "</center>\n",
    "\n",
    "Para crear un virtual enviroment hacemos lo siguiente:\n",
    "1. Abrir una terminal\n",
    "2. Creación del virtual enviroment:\n",
    " * ```\n",
    "python3 -m venv tutorial-env\n",
    "```\n",
    " * Se crea una carpeta con el nombre tutorial-env en el directorio donde nos encontremos (para saberlo usar pwd).\n",
    "2. Activar el virtual enviroment:\n",
    " * En Unix o MacOS, ejecuta:\n",
    "```\n",
    "source tutorial-env/bin/activate\n",
    "```\n",
    " * En Windows, ejecuta uno de los siguientes comandos (depende de la versión):\n",
    "    - ```\n",
    "tutorial-env\\Scripts\\activate.bat\n",
    "    ```\n",
    "    - ```\n",
    "    & tutorial-env/Scripts/activate.ps1\n",
    "    ```\n",
    " * Si en Windows extieran problemas de permisos ejecutar en una terminal con permisos de administración los siguientes comandos:\n",
    "  ```\n",
    "  get-ExecutionPolicy\n",
    "  ```\n",
    "  ```\n",
    "  Set-ExecutionPolicy Unrestricted\n",
    "  ```\n",
    "3. Aparecerá: (tutorial-env) a la izquierda. Esto nos indica que tenemos ese virtual enviroment activado.\n",
    "4. Instalar las librerías necesarias en el virtual enviroment\n",
    "5. Podemos ejecutar programas python. Incluso vscode reconoce el virtual enviroment."
   ]
  }
 ],
 "metadata": {
  "kernelspec": {
   "display_name": "Python 3",
   "language": "python",
   "name": "python3"
  },
  "language_info": {
   "codemirror_mode": {
    "name": "ipython",
    "version": 3
   },
   "file_extension": ".py",
   "mimetype": "text/x-python",
   "name": "python",
   "nbconvert_exporter": "python",
   "pygments_lexer": "ipython3",
   "version": "3.7.3"
  }
 },
 "nbformat": 4,
 "nbformat_minor": 4
}
