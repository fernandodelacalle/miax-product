{
 "cells": [
  {
   "cell_type": "markdown",
   "metadata": {},
   "source": [
    "## Competicion Algoritmos MIA-X ##\n",
    "### Ejemplo de preparación de datos de mercado ###"
   ]
  },
  {
   "cell_type": "code",
   "execution_count": 30,
   "metadata": {},
   "outputs": [],
   "source": [
    "import pandas as pd\n",
    "import requests, json"
   ]
  },
  {
   "cell_type": "markdown",
   "metadata": {},
   "source": [
    "La comunicación via API se realiza a través de la siguiente dirección web"
   ]
  },
  {
   "cell_type": "code",
   "execution_count": 31,
   "metadata": {},
   "outputs": [],
   "source": [
    "url_base = 'https://miax-gateway-jog4ew3z3q-ew.a.run.app'\n",
    "headers = {'Content-Type': 'application/json'}"
   ]
  },
  {
   "cell_type": "markdown",
   "metadata": {},
   "source": [
    "Es necesario indicar en la petición el identificador \n",
    "de la competición y la clave personal"
   ]
  },
  {
   "cell_type": "code",
   "execution_count": 32,
   "metadata": {},
   "outputs": [],
   "source": [
    "competi = 'mia_7'\n",
    "user_key = 'PON_AQUI_TU_KEY'"
   ]
  },
  {
   "cell_type": "markdown",
   "metadata": {},
   "source": [
    "#### Maestro de Valores ####\n",
    "Proporciona una lista de los tickers de cada mercado\n",
    "con la fecha inicial desde donde se puede operar hasta\n",
    "el día en que esa acción ha estado en el índice.  En caso\n",
    "de estar a día de hoy la fecha coincide con la fecha\n",
    "del ultimo dato. Si algún valor ha entrado y salido más de \n",
    "una vez del índice, el ticker está identificado con un número.\n",
    "Ejemplo BKIA_0 corresponde al primer período de BANKIA, y el \n",
    "ticker BKIA corresponde a la serie desde que entró a la \n",
    "actualidad"
   ]
  },
  {
   "cell_type": "markdown",
   "metadata": {},
   "source": [
    "Los mercados disponibles son: 'IBEX', 'DAX','EUROSTOXX'"
   ]
  },
  {
   "cell_type": "code",
   "execution_count": 20,
   "metadata": {},
   "outputs": [],
   "source": [
    "url = f'{url_base}/data/ticker_master'"
   ]
  },
  {
   "cell_type": "code",
   "execution_count": 21,
   "metadata": {},
   "outputs": [],
   "source": [
    "params = {'competi': competi,\n",
    "          'market': 'IBEX',\n",
    "          'key': user_key}\n",
    "response = requests.get(url, params)\n",
    "tk_master = response.json()"
   ]
  },
  {
   "cell_type": "code",
   "execution_count": 22,
   "metadata": {},
   "outputs": [],
   "source": [
    "#response.text"
   ]
  },
  {
   "cell_type": "code",
   "execution_count": 23,
   "metadata": {},
   "outputs": [
    {
     "data": {
      "text/html": [
       "<div>\n",
       "<style scoped>\n",
       "    .dataframe tbody tr th:only-of-type {\n",
       "        vertical-align: middle;\n",
       "    }\n",
       "\n",
       "    .dataframe tbody tr th {\n",
       "        vertical-align: top;\n",
       "    }\n",
       "\n",
       "    .dataframe thead th {\n",
       "        text-align: right;\n",
       "    }\n",
       "</style>\n",
       "<table border=\"1\" class=\"dataframe\">\n",
       "  <thead>\n",
       "    <tr style=\"text-align: right;\">\n",
       "      <th></th>\n",
       "      <th>ticker</th>\n",
       "      <th>start_date</th>\n",
       "      <th>end_date</th>\n",
       "      <th>n_days</th>\n",
       "    </tr>\n",
       "  </thead>\n",
       "  <tbody>\n",
       "    <tr>\n",
       "      <th>0</th>\n",
       "      <td>ABE</td>\n",
       "      <td>2010-01-04T00:00:00</td>\n",
       "      <td>2018-05-09T00:00:00</td>\n",
       "      <td>2136</td>\n",
       "    </tr>\n",
       "    <tr>\n",
       "      <th>1</th>\n",
       "      <td>ABG</td>\n",
       "      <td>2010-01-04T00:00:00</td>\n",
       "      <td>2012-10-26T00:00:00</td>\n",
       "      <td>725</td>\n",
       "    </tr>\n",
       "    <tr>\n",
       "      <th>2</th>\n",
       "      <td>ABG.P_0</td>\n",
       "      <td>2012-10-26T00:00:00</td>\n",
       "      <td>2013-07-01T00:00:00</td>\n",
       "      <td>171</td>\n",
       "    </tr>\n",
       "    <tr>\n",
       "      <th>3</th>\n",
       "      <td>ABG.P_1</td>\n",
       "      <td>2014-06-23T00:00:00</td>\n",
       "      <td>2015-11-27T00:00:00</td>\n",
       "      <td>369</td>\n",
       "    </tr>\n",
       "    <tr>\n",
       "      <th>4</th>\n",
       "      <td>ACS</td>\n",
       "      <td>2010-01-04T00:00:00</td>\n",
       "      <td></td>\n",
       "      <td></td>\n",
       "    </tr>\n",
       "  </tbody>\n",
       "</table>\n",
       "</div>"
      ],
      "text/plain": [
       "    ticker           start_date             end_date n_days\n",
       "0      ABE  2010-01-04T00:00:00  2018-05-09T00:00:00   2136\n",
       "1      ABG  2010-01-04T00:00:00  2012-10-26T00:00:00    725\n",
       "2  ABG.P_0  2012-10-26T00:00:00  2013-07-01T00:00:00    171\n",
       "3  ABG.P_1  2014-06-23T00:00:00  2015-11-27T00:00:00    369\n",
       "4      ACS  2010-01-04T00:00:00                            "
      ]
     },
     "execution_count": 23,
     "metadata": {},
     "output_type": "execute_result"
    }
   ],
   "source": [
    "maestro_df = pd.DataFrame(tk_master['master'])\n",
    "maestro_df.head()"
   ]
  },
  {
   "cell_type": "markdown",
   "metadata": {},
   "source": [
    "### Serie de Precios ###"
   ]
  },
  {
   "cell_type": "markdown",
   "metadata": {},
   "source": [
    "Las series de precios se obtien por índice y por acción indicando\n",
    "el ticker correspondiente al maestro de valores.  El parametro\n",
    "opcional 'close' vale para pedir sólo el precio de cierre o las\n",
    "series completas OHLCV. Estas series son precios ya ajustados por\n",
    "splits y dividendos"
   ]
  },
  {
   "cell_type": "code",
   "execution_count": null,
   "metadata": {},
   "outputs": [],
   "source": [
    "url2 = f'{url_base}/data/time_series'"
   ]
  },
  {
   "cell_type": "code",
   "execution_count": null,
   "metadata": {},
   "outputs": [],
   "source": [
    "params = {'market': 'IBEX',\n",
    "          'key': user_key,\n",
    "          'ticker': 'SAN',\n",
    "          'close': False}\n",
    "response = requests.get(url2, params)\n",
    "tk_data = response.json()"
   ]
  },
  {
   "cell_type": "markdown",
   "metadata": {},
   "source": [
    "En caso de error la lectura del JSON no podria convertirse\n",
    "a un objeto pandas.  Se puede pedir el status_code para \n",
    "verificar que la petición ha sido correcta"
   ]
  },
  {
   "cell_type": "code",
   "execution_count": null,
   "metadata": {},
   "outputs": [],
   "source": [
    "if response.status_code == 200:\n",
    "    df_data = pd.read_json(tk_data, typ='frame')\n",
    "else: \n",
    "    print(response.text)"
   ]
  },
  {
   "cell_type": "code",
   "execution_count": null,
   "metadata": {},
   "outputs": [],
   "source": [
    "df_data.tail()"
   ]
  },
  {
   "cell_type": "markdown",
   "metadata": {},
   "source": [
    "El parámetro 'close' es True por defecto"
   ]
  },
  {
   "cell_type": "code",
   "execution_count": null,
   "metadata": {},
   "outputs": [],
   "source": [
    "params = {'market': 'IBEX',\n",
    "          'key': user_key,\n",
    "          'ticker': 'SAN'}\n",
    "response = requests.get(url2, params)\n",
    "tk_data = response.json()"
   ]
  },
  {
   "cell_type": "code",
   "execution_count": null,
   "metadata": {},
   "outputs": [],
   "source": [
    "response.status_code"
   ]
  },
  {
   "cell_type": "code",
   "execution_count": null,
   "metadata": {},
   "outputs": [],
   "source": [
    "series_data = pd.read_json(tk_data, typ='series')\n",
    "series_data.head()"
   ]
  },
  {
   "cell_type": "code",
   "execution_count": null,
   "metadata": {},
   "outputs": [],
   "source": [
    "series_data.tail()"
   ]
  },
  {
   "cell_type": "markdown",
   "metadata": {},
   "source": [
    "#### Serie del Indice ####\n",
    "Para acceder al precio del índice se utiliza\n",
    "el ticker 'benchmark'. En este ejemplo corresponde\n",
    "al IBEX35 con dividendos"
   ]
  },
  {
   "cell_type": "code",
   "execution_count": null,
   "metadata": {},
   "outputs": [],
   "source": [
    "params = {'market': 'IBEX',\n",
    "          'key': user_key,\n",
    "          'ticker': 'benchmark',\n",
    "          'close': False}\n",
    "response = requests.get(url2, params)\n",
    "tk_data = response.json()"
   ]
  },
  {
   "cell_type": "code",
   "execution_count": null,
   "metadata": {},
   "outputs": [],
   "source": [
    "df_benchmark = pd.read_json(tk_data, typ='frame')\n",
    "df_benchmark.head()"
   ]
  },
  {
   "cell_type": "code",
   "execution_count": null,
   "metadata": {},
   "outputs": [],
   "source": [
    "df_benchmark.tail()"
   ]
  }
 ],
 "metadata": {
  "kernelspec": {
   "display_name": "Python 3",
   "language": "python",
   "name": "python3"
  },
  "language_info": {
   "codemirror_mode": {
    "name": "ipython",
    "version": 3
   },
   "file_extension": ".py",
   "mimetype": "text/x-python",
   "name": "python",
   "nbconvert_exporter": "python",
   "pygments_lexer": "ipython3",
   "version": "3.8.8"
  }
 },
 "nbformat": 4,
 "nbformat_minor": 4
}
