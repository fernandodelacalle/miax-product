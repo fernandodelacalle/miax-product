{
 "cells": [
  {
   "cell_type": "markdown",
   "metadata": {},
   "source": [
    "# Ejercicio"
   ]
  },
  {
   "cell_type": "markdown",
   "metadata": {},
   "source": [
    "- Vamos a hacer un algoritmo que cada 200 días rebalancee todos los activos para tener el mismo porcertaje.\n",
    "- Estamos en modo backtesting: calculamos primero todas las allocations, las insertamos y ejecutamos el backtesting."
   ]
  },
  {
   "cell_type": "markdown",
   "metadata": {},
   "source": [
    "1. Descarga el maestro de valores.\n",
    "2. Descarga todos los datos para cada ticker del maestro. Baja solo el close.\n",
    "3. Con las series close, crea un datafame donde tengas como columnas los tickers y filas las fechas.\n",
    "4. Recorre este dataframe cada 200 filas y crea una lista de allocations con valor 1/n_activos. \n",
    "5. Envía el post de estos allocations.\n",
    "6. Usa la API para obtener todas las allocations introducidas.\n",
    "7. Usa la API para ejecutar el backtesting.\n",
    "8. Elimina todas las allocations.\n",
    "9. Refactoriza el código en una clase para el algoritmo y otra para un handler del API.\n",
    "10. Ejecutalo desde la terminal."
   ]
  },
  {
   "cell_type": "code",
   "execution_count": null,
   "metadata": {},
   "outputs": [],
   "source": [
    "import pandas as pd\n",
    "import requests, json"
   ]
  },
  {
   "cell_type": "code",
   "execution_count": null,
   "metadata": {},
   "outputs": [],
   "source": [
    "def allocs_to_frame(json_allocations):\n",
    "    alloc_list = []\n",
    "    for json_alloc in json_allocations:\n",
    "        #print(json_alloc)\n",
    "        allocs = pd.DataFrame(json_alloc['allocations'])\n",
    "        allocs.set_index('ticker', inplace=True)\n",
    "        alloc_serie = allocs['alloc']\n",
    "        alloc_serie.name = json_alloc['date'] \n",
    "        alloc_list.append(alloc_serie)\n",
    "    all_alloc_df = pd.concat(alloc_list, axis=1).T\n",
    "    return all_alloc_df\n",
    "\n",
    "\n",
    "class ApiBmeHandler:\n",
    "    def __init__(self, market):\n",
    "        self.url_base = 'https://miax-gateway-jog4ew3z3q-ew.a.run.app'\n",
    "        self.competi = 'mia_8'\n",
    "        self.user_key = ''\n",
    "        self.market = market\n",
    "    \n",
    "    def get_ticker_master(self):\n",
    "        url = f'{self.url_base}/data/ticker_master'\n",
    "        params = {'competi': self.competi,\n",
    "                  'market': self.market,\n",
    "                  'key': self.user_key}\n",
    "        response = requests.get(url, params)\n",
    "        tk_master = response.json()\n",
    "        maestro_df = pd.DataFrame(tk_master['master'])\n",
    "        return maestro_df\n",
    "    \n",
    "    def get_close_data_tck(self, tck):\n",
    "        url = f'{self.url_base}/data/time_series'\n",
    "        params = {'market': self.market,\n",
    "                  'key': self.user_key,\n",
    "                  'ticker': tck}\n",
    "        response = requests.get(url, params)\n",
    "        tk_data = response.json()\n",
    "        series_data = pd.read_json(tk_data, typ='series')\n",
    "        return series_data\n",
    "        \n",
    "    def get_all_close_data(self):\n",
    "        datos_close = {}\n",
    "        maestro_df = self.get_ticker_master()\n",
    "        for idx, datos in maestro_df.iterrows():\n",
    "            tck = datos.ticker\n",
    "            print(tck, end=' ')            \n",
    "            series_data = self.get_close_data_tck(tck)\n",
    "            datos_close[tck] = series_data\n",
    "        return pd.DataFrame(datos_close)\n",
    "    \n",
    "    def get_algos(self):\n",
    "        url = f'{self.url_base}/participants/algorithms'\n",
    "        params = {'competi': self.competi,\n",
    "                  'key': self.user_key}\n",
    "        response = requests.get(url, params)\n",
    "        algos = response.json()\n",
    "        if algos:\n",
    "            algos_df = pd.DataFrame(algos)\n",
    "            return algos_df\n",
    "\n",
    "    def post_alloc(self, algo_tag, str_date, allocation):\n",
    "        url = f'{self.url_base}/participants/allocation'\n",
    "        url_auth = f'{url}?key={self.user_key}'\n",
    "        params = {\n",
    "            'competi': self.competi,\n",
    "            'algo_tag': algo_tag,\n",
    "            'market': self.market,\n",
    "            'date': str_date,\n",
    "            'allocation': allocation\n",
    "        }\n",
    "        response = requests.post(url_auth, data=json.dumps(params))\n",
    "        print(response.json())\n",
    "\n",
    "    def get_allocs(self, algo_tag):\n",
    "        url = f'{self.url_base}/participants/algo_allocations'\n",
    "        params = {\n",
    "            'key': self.user_key,\n",
    "            'competi': self.competi,\n",
    "            'algo_tag': algo_tag,\n",
    "            'market': self.market,\n",
    "        }\n",
    "        response = requests.get(url, params)\n",
    "        response_json = response.json()\n",
    "        df = pd.DataFrame()\n",
    "        if response_json:\n",
    "            df = allocs_to_frame(response_json)\n",
    "        return df\n",
    "\n",
    "    def exec_backtest(self, algo_tag):\n",
    "        url = f'{self.url_base}/participants/exec_algo'\n",
    "        url_auth = f'{url}?key={self.user_key}'\n",
    "        params = {\n",
    "            'competi': self.competi,\n",
    "            'algo_tag': algo_tag,\n",
    "            'market': self.market,\n",
    "        }\n",
    "        response = requests.post(url_auth, data=json.dumps(params))\n",
    "        if response.status_code == 200:\n",
    "            exec_data = response.json()\n",
    "            status = exec_data.get('status')\n",
    "            res_data = exec_data.get('content')\n",
    "            trades = None\n",
    "            if res_data:\n",
    "                result = pd.Series(res_data['result'])\n",
    "                trades = pd.DataFrame(res_data['trades'])\n",
    "            return result, trades\n",
    "        \n",
    "    def delete_allocs(self, algo_tag):\n",
    "        url = f'{self.url_base}/participants/delete_allocations'\n",
    "        url_auth = f'{url}?key={self.user_key}'\n",
    "\n",
    "        params = {\n",
    "            'competi': self.competi,\n",
    "            'algo_tag': algo_tag,\n",
    "            'market': self.market,\n",
    "            }\n",
    "        response = requests.post(url_auth, data=json.dumps(params))\n",
    "        print(response.text)\n",
    "        \n",
    "        "
   ]
  },
  {
   "cell_type": "code",
   "execution_count": null,
   "metadata": {},
   "outputs": [],
   "source": [
    "# Test of the API Handler\n",
    "apih = ApiBmeHandler(market='IBEX')"
   ]
  },
  {
   "cell_type": "code",
   "execution_count": null,
   "metadata": {},
   "outputs": [],
   "source": [
    "apih.get_algos()"
   ]
  },
  {
   "cell_type": "code",
   "execution_count": null,
   "metadata": {},
   "outputs": [],
   "source": [
    "apih.get_ticker_master()"
   ]
  },
  {
   "cell_type": "code",
   "execution_count": null,
   "metadata": {},
   "outputs": [],
   "source": [
    "from datetime import datetime\n",
    "\n",
    "class EqWeightedAlgo:\n",
    "    \n",
    "    def __init__(self, market, algo_tag, frec):\n",
    "        self.apih = ApiBmeHandler(market=market)   \n",
    "        self.frec = frec\n",
    "        self.algo_tag = algo_tag\n",
    "        self.data_close = self.apih.get_all_close_data()\n",
    "    \n",
    "    def run_day(self):\n",
    "        allocs = self.apih.get_allocs(algo_tag=self.algo_tag)\n",
    "        if allocs.empty:\n",
    "            # first day\n",
    "            self.send_current_allocs()\n",
    "            return\n",
    "        last_allocs_day = pd.Timestamp(allocs.index[-1])\n",
    "        last_maket_date = self.data_close.index[-1]\n",
    "        delta = (last_allocs_day - last_maket_date).days\n",
    "        if delta >= self.frec:\n",
    "            print(f'Today is a renal day: {last_allocs_day} delta: {delta}')\n",
    "        else:\n",
    "            print(f'No alloc today Delta: {delta}')\n",
    "\n",
    "    def send_current_allocs(self):\n",
    "        today_prices = self.data_close.iloc[-1]\n",
    "        today_maket_day = self.data_close.index[-1]\n",
    "        allocs = today_prices.dropna()\n",
    "        allocs[:] = 1 / allocs.shape[0]\n",
    "        allocs_dic = [\n",
    "            {'ticker': tck, 'alloc': alloc}\n",
    "            for tck, alloc in allocs.iteritems()\n",
    "        ]\n",
    "        self.apih.post_alloc(\n",
    "            algo_tag=self.algo_tag,\n",
    "            str_date=today_maket_day.strftime('%Y-%m-%d'),\n",
    "            allocation=allocs_dic\n",
    "        )\n",
    "\n",
    "    def run(self):\n",
    "        rbal_dates = self.data_close[::self.frec]\n",
    "        for day, price_day in rbal_dates.iterrows():\n",
    "            allocs = price_day.dropna()\n",
    "            allocs[:] = 1 / allocs.shape[0]\n",
    "            allocs_dic = [\n",
    "                {'ticker': tck, 'alloc': alloc}\n",
    "                for tck, alloc in allocs.iteritems()\n",
    "            ]    \n",
    "            self.apih.post_alloc(\n",
    "                algo_tag=self.algo_tag,\n",
    "                str_date=day.strftime('%Y-%m-%d'),\n",
    "                allocation=allocs_dic\n",
    "            )\n",
    "\n",
    "    def run_btest(self):\n",
    "        print(self.apih.get_allocs(algo_tag=self.algo_tag))\n",
    "        results, trades = self.apih.exec_backtest(algo_tag=self.algo_tag)\n",
    "        self.apih.delete_allocs(algo_tag=self.algo_tag)\n",
    "        return results, trades\n"
   ]
  },
  {
   "cell_type": "code",
   "execution_count": null,
   "metadata": {},
   "outputs": [],
   "source": [
    "eq_1 = EqWeightedAlgo(market='IBEX', algo_tag='test_user_1_miax8_algo1', frec=200)"
   ]
  },
  {
   "cell_type": "code",
   "execution_count": null,
   "metadata": {},
   "outputs": [],
   "source": [
    "# For backtesting run with:\n",
    "eq_1.run()"
   ]
  },
  {
   "cell_type": "code",
   "execution_count": null,
   "metadata": {},
   "outputs": [],
   "source": [
    "results, trades = eq_1.run_btest()"
   ]
  },
  {
   "cell_type": "code",
   "execution_count": null,
   "metadata": {},
   "outputs": [],
   "source": [
    "# For daily operation, each day you can run:\n",
    "eq_1 = EqWeightedAlgo(market='IBEX', algo_tag='test_user_1_miax8_algo1', frec=200)\n",
    "eq_1.run_day()"
   ]
  }
 ],
 "metadata": {
  "kernelspec": {
   "display_name": "Python 3 (ipykernel)",
   "language": "python",
   "name": "python3"
  },
  "language_info": {
   "codemirror_mode": {
    "name": "ipython",
    "version": 3
   },
   "file_extension": ".py",
   "mimetype": "text/x-python",
   "name": "python",
   "nbconvert_exporter": "python",
   "pygments_lexer": "ipython3",
   "version": "3.7.3"
  }
 },
 "nbformat": 4,
 "nbformat_minor": 4
}
