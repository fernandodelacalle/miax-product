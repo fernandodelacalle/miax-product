{
 "cells": [
  {
   "cell_type": "markdown",
   "metadata": {},
   "source": [
    "## Competicion Algoritmos MIA-X ##\n",
    "### Ejemplo de preparación de datos de mercado ###"
   ]
  },
  {
   "cell_type": "code",
   "execution_count": null,
   "metadata": {},
   "outputs": [],
   "source": [
    "import pandas as pd\n",
    "import requests, json"
   ]
  },
  {
   "cell_type": "markdown",
   "metadata": {},
   "source": [
    "La comunicación via API se realiza a través de la siguiente dirección web"
   ]
  },
  {
   "cell_type": "code",
   "execution_count": null,
   "metadata": {},
   "outputs": [],
   "source": [
    "url_base = 'https://miax-gateway-jog4ew3z3q-ew.a.run.app'"
   ]
  },
  {
   "cell_type": "markdown",
   "metadata": {},
   "source": [
    "Es necesario indicar en la petición el identificador \n",
    "de la competición y la clave personal"
   ]
  },
  {
   "cell_type": "code",
   "execution_count": null,
   "metadata": {},
   "outputs": [],
   "source": [
    "competi = 'mia_12'\n",
    "user_key = 'TU_API_KEY'"
   ]
  },
  {
   "cell_type": "markdown",
   "metadata": {},
   "source": [
    "#### Maestro de Valores ####\n",
    "Proporciona una lista de los tickers de cada mercado\n",
    "con la fecha inicial desde donde se puede operar hasta\n",
    "el día en que esa acción ha estado en el índice.  En caso\n",
    "de estar a día de hoy la fecha coincide con la fecha\n",
    "del ultimo dato. Si algún valor ha entrado y salido más de \n",
    "una vez del índice, el ticker está identificado con un número.\n",
    "Ejemplo BKIA_0 corresponde al primer período de BANKIA, y el \n",
    "ticker BKIA corresponde a la serie desde que entró a la \n",
    "actualidad"
   ]
  },
  {
   "cell_type": "markdown",
   "metadata": {},
   "source": [
    "Los mercados disponibles son: 'IBEX', 'DAX','EUROSTOXX'"
   ]
  },
  {
   "cell_type": "code",
   "execution_count": null,
   "metadata": {},
   "outputs": [],
   "source": [
    "url = f'{url_base}/data/ticker_master'"
   ]
  },
  {
   "cell_type": "code",
   "execution_count": null,
   "metadata": {},
   "outputs": [],
   "source": [
    "params = {'competi': competi,\n",
    "          'market': 'IBEX',\n",
    "          'key': user_key}\n",
    "response = requests.get(url, params)\n",
    "tk_master = response.json()"
   ]
  },
  {
   "cell_type": "code",
   "execution_count": null,
   "metadata": {},
   "outputs": [],
   "source": [
    "maestro_df = pd.DataFrame(tk_master['master'])\n",
    "maestro_df.head()"
   ]
  },
  {
   "cell_type": "code",
   "execution_count": null,
   "metadata": {},
   "outputs": [],
   "source": [
    "maestro_df.ticker"
   ]
  },
  {
   "cell_type": "markdown",
   "metadata": {},
   "source": [
    "### Serie de Precios ###"
   ]
  },
  {
   "cell_type": "markdown",
   "metadata": {},
   "source": [
    "Las series de precios se obtien por índice y por acción indicando\n",
    "el ticker correspondiente al maestro de valores.  El parametro\n",
    "opcional 'close' vale para pedir sólo el precio de cierre o las\n",
    "series completas OHLCV. Estas series son precios ya ajustados por\n",
    "splits y dividendos"
   ]
  },
  {
   "cell_type": "code",
   "execution_count": null,
   "metadata": {},
   "outputs": [],
   "source": [
    "url2 = f'{url_base}/data/time_series'"
   ]
  },
  {
   "cell_type": "code",
   "execution_count": null,
   "metadata": {
    "scrolled": true
   },
   "outputs": [],
   "source": [
    "params = {'market': 'IBEX',\n",
    "          'key': user_key,\n",
    "          'ticker': 'SAN',\n",
    "          'close': False}\n",
    "response = requests.get(url2, params)\n",
    "tk_data = response.json()"
   ]
  },
  {
   "cell_type": "markdown",
   "metadata": {},
   "source": [
    "En caso de error la lectura del JSON no podria convertirse\n",
    "a un objeto pandas.  Se puede pedir el status_code para \n",
    "verificar que la petición ha sido correcta"
   ]
  },
  {
   "cell_type": "code",
   "execution_count": null,
   "metadata": {},
   "outputs": [],
   "source": [
    "if response.status_code == 200:\n",
    "    df_data = pd.read_json(tk_data, typ='frame')\n",
    "else: \n",
    "    print(response.text)"
   ]
  },
  {
   "cell_type": "code",
   "execution_count": null,
   "metadata": {},
   "outputs": [],
   "source": [
    "df_data.tail()"
   ]
  },
  {
   "cell_type": "markdown",
   "metadata": {},
   "source": [
    "El parámetro 'close' es True por defecto"
   ]
  },
  {
   "cell_type": "code",
   "execution_count": null,
   "metadata": {},
   "outputs": [],
   "source": [
    "params = {'market': 'IBEX',\n",
    "          'key': user_key,\n",
    "          'ticker': 'SAN'}\n",
    "response = requests.get(url2, params)\n",
    "tk_data = response.json()"
   ]
  },
  {
   "cell_type": "code",
   "execution_count": null,
   "metadata": {},
   "outputs": [],
   "source": [
    "response.status_code"
   ]
  },
  {
   "cell_type": "code",
   "execution_count": null,
   "metadata": {},
   "outputs": [],
   "source": [
    "series_data = pd.read_json(tk_data, typ='series')\n",
    "series_data.head()"
   ]
  },
  {
   "cell_type": "code",
   "execution_count": null,
   "metadata": {},
   "outputs": [],
   "source": [
    "series_data.tail()"
   ]
  },
  {
   "cell_type": "markdown",
   "metadata": {},
   "source": [
    "#### Serie del Indice ####\n",
    "Para acceder al precio del índice se utiliza\n",
    "el ticker 'benchmark'. En este ejemplo corresponde\n",
    "al IBEX35 con dividendos"
   ]
  },
  {
   "cell_type": "code",
   "execution_count": null,
   "metadata": {},
   "outputs": [],
   "source": [
    "params = {'market': 'IBEX',\n",
    "          'key': user_key,\n",
    "          'ticker': 'benchmark',\n",
    "          'close': False}\n",
    "response = requests.get(url2, params)\n",
    "tk_data = response.json()"
   ]
  },
  {
   "cell_type": "code",
   "execution_count": null,
   "metadata": {},
   "outputs": [],
   "source": [
    "df_benchmark = pd.read_json(tk_data, typ='frame')\n",
    "df_benchmark.head()"
   ]
  },
  {
   "cell_type": "code",
   "execution_count": null,
   "metadata": {},
   "outputs": [],
   "source": [
    "df_benchmark.tail()"
   ]
  }
 ],
 "metadata": {
  "kernelspec": {
   "display_name": "Python 3 (ipykernel)",
   "language": "python",
   "name": "python3"
  },
  "language_info": {
   "codemirror_mode": {
    "name": "ipython",
    "version": 3
   },
   "file_extension": ".py",
   "mimetype": "text/x-python",
   "name": "python",
   "nbconvert_exporter": "python",
   "pygments_lexer": "ipython3",
   "version": "3.11.6"
  }
 },
 "nbformat": 4,
 "nbformat_minor": 4
}
