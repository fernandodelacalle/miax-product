{
 "cells": [
  {
   "cell_type": "markdown",
   "metadata": {},
   "source": [
    "## Competicion Algoritmos MIA-X ##\n",
    "### Ejemplo de lectura e interpretación de errores ###"
   ]
  },
  {
   "cell_type": "code",
   "execution_count": 2,
   "metadata": {},
   "outputs": [],
   "source": [
    "import pandas as pd\n",
    "import requests, json"
   ]
  },
  {
   "cell_type": "code",
   "execution_count": 3,
   "metadata": {},
   "outputs": [],
   "source": [
    "url_base = 'https://miax-gateway-jog4ew3z3q-ew.a.run.app'\n",
    "headers = {'Content-Type': 'application/json'}"
   ]
  },
  {
   "cell_type": "code",
   "execution_count": 4,
   "metadata": {},
   "outputs": [],
   "source": [
    "competi = 'mia_7'\n",
    "user_key = 'PON_AQUI_TU_KEY'"
   ]
  },
  {
   "cell_type": "markdown",
   "metadata": {},
   "source": [
    "### Error de Identificacion ###\n"
   ]
  },
  {
   "cell_type": "code",
   "execution_count": null,
   "metadata": {},
   "outputs": [],
   "source": [
    "url = f'{url_base}/participants/algorithms'\n",
    "params = {'competi': competi,\n",
    "          'key': user_key}\n",
    "response = requests.get(url, params)"
   ]
  },
  {
   "cell_type": "markdown",
   "metadata": {},
   "source": [
    "Si no se cambia la clave la siguiente linea da error\n",
    "en lugar de leer el json debemos:\n",
    "- Ver el código de respuesta HTTP\n",
    "- Consultar el mensaje del response\n",
    "    "
   ]
  },
  {
   "cell_type": "code",
   "execution_count": null,
   "metadata": {},
   "outputs": [],
   "source": [
    "algos = response.json()"
   ]
  },
  {
   "cell_type": "code",
   "execution_count": null,
   "metadata": {},
   "outputs": [],
   "source": [
    "print(response.status_code)\n",
    "print(response.text)"
   ]
  },
  {
   "cell_type": "markdown",
   "metadata": {},
   "source": [
    "### Errores de Aplicación ###\n",
    "El API verificará varias condiciones para mantener la integridad de los datos.\n",
    "Por ejemplo no nos deja introducir allocations en fechas futuras o en algoritmos que no estan definidos."
   ]
  },
  {
   "cell_type": "code",
   "execution_count": null,
   "metadata": {},
   "outputs": [],
   "source": [
    "# Generamos unas allocations\n",
    "def gen_alloc_data(ticker, alloc):\n",
    "    return {'ticker': ticker,\n",
    "            'alloc': alloc}\n",
    "\n",
    "tickers = ['TEF','SAN','IBE','ITX','REP','AMS']\n",
    "market = 'IBEX'\n",
    "allocation = [gen_alloc_data(tk, 0.15) for tk in tickers]"
   ]
  },
  {
   "cell_type": "code",
   "execution_count": null,
   "metadata": {},
   "outputs": [],
   "source": [
    "url = f'{url_base}/participants/allocation?key={user_key}'"
   ]
  },
  {
   "cell_type": "code",
   "execution_count": null,
   "metadata": {},
   "outputs": [],
   "source": [
    "algo_tag = 'ejemplo_algo1'"
   ]
  },
  {
   "cell_type": "code",
   "execution_count": null,
   "metadata": {},
   "outputs": [],
   "source": [
    "bad_date = \"2020-11-04\""
   ]
  },
  {
   "cell_type": "code",
   "execution_count": null,
   "metadata": {},
   "outputs": [],
   "source": [
    "params = {\n",
    "    'competi': competi,\n",
    "    'algo_tag': algo_tag,\n",
    "    'market': market,\n",
    "    'date': bad_date,\n",
    "    'allocation': allocation\n",
    "}"
   ]
  },
  {
   "cell_type": "code",
   "execution_count": null,
   "metadata": {},
   "outputs": [],
   "source": [
    "response = requests.post(url, data=json.dumps(params))\n",
    "print(response.status_code)\n",
    "print(response.text)"
   ]
  }
 ],
 "metadata": {
  "kernelspec": {
   "display_name": "Python 3",
   "language": "python",
   "name": "python3"
  },
  "language_info": {
   "codemirror_mode": {
    "name": "ipython",
    "version": 3
   },
   "file_extension": ".py",
   "mimetype": "text/x-python",
   "name": "python",
   "nbconvert_exporter": "python",
   "pygments_lexer": "ipython3",
   "version": "3.8.8"
  }
 },
 "nbformat": 4,
 "nbformat_minor": 4
}
