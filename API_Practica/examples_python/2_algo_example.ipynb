{
 "cells": [
  {
   "cell_type": "markdown",
   "metadata": {},
   "source": [
    "## Competicion Algoritmos MIA-X ##\n",
    "### Ejemplo de preparación de algoritmos ###"
   ]
  },
  {
   "cell_type": "code",
   "execution_count": null,
   "metadata": {},
   "outputs": [],
   "source": [
    "import pandas as pd\n",
    "import requests, json"
   ]
  },
  {
   "cell_type": "markdown",
   "metadata": {},
   "source": [
    "La comunicación via API se realiza a través de la siguiente dirección web"
   ]
  },
  {
   "cell_type": "code",
   "execution_count": null,
   "metadata": {},
   "outputs": [],
   "source": [
    "url_base = 'https://miax-gateway-jog4ew3z3q-ew.a.run.app'\n",
    "headers = {'Content-Type': 'application/json'}"
   ]
  },
  {
   "cell_type": "markdown",
   "metadata": {},
   "source": [
    "Es necesario indicar en la petición el identificador \n",
    "de la competición y la clave personal"
   ]
  },
  {
   "cell_type": "code",
   "execution_count": null,
   "metadata": {},
   "outputs": [],
   "source": [
    "competi = 'mia_8'\n",
    "user_key = 'PON_AQUI_TU_KEY'"
   ]
  },
  {
   "cell_type": "markdown",
   "metadata": {},
   "source": [
    "### Notas sobre los métodos HTTP ###\n",
    "En la comunicación via API se utiliza el protocolo HTTP que entre otros\n",
    "permite los métodos GET y POST.  Hay que tomar especial antención a la \n",
    "construcción de la petición. En ambos casos la key de autenticación\n",
    "va en el URL.\n",
    "- GET: los parámetros se añaden junto con la key en la URL\n",
    "- POST: los parámetros van en el cuerpo del mensaje"
   ]
  },
  {
   "cell_type": "markdown",
   "metadata": {},
   "source": [
    "### Consulta algoritmos del usuario ###\n",
    "Cada participante se crea automáticamente con tres algoritmos tipo allocator.\n",
    "Cada algoritmo tiene asociada una etiqueta o 'algo_tag' que se utiliza como identificador a la hora de hacer operaciones\n",
    "Cada algoritmo puede tener allocations para cada uno de los indices haciendo un total de 9 algoritmos."
   ]
  },
  {
   "cell_type": "code",
   "execution_count": null,
   "metadata": {},
   "outputs": [],
   "source": [
    "url = f'{url_base}/participants/algorithms'\n",
    "params = {'competi': competi,\n",
    "          'key': user_key}\n",
    "response = requests.get(url, params)\n",
    "algos = response.json()\n",
    "if algos:\n",
    "    algos_df = pd.DataFrame(algos)\n",
    "    print(algos_df.to_string())\n"
   ]
  },
  {
   "cell_type": "code",
   "execution_count": null,
   "metadata": {},
   "outputs": [],
   "source": [
    "algo_tag = algos_df.iloc[1].algo_tag\n",
    "algo_tag"
   ]
  },
  {
   "cell_type": "markdown",
   "metadata": {},
   "source": [
    "### Agregar una asignacion de pesos a un algoritmo ###\n",
    "Los algoritmos tipo allocator corresponden a la gestión de los pesos de una\n",
    "cartera de inversión.  Una asignación de capital o 'allocation' es la proporción\n",
    "de la cartera que se desea para un día concreto.  El backtesing se encargará\n",
    "de transformar esas asignaciones en órdenes de compra/venta cuando la cartera\n",
    "actual difiera de la asignación deseada. **Solo es necesario indicar un allocation\n",
    "cuando se desee realizar una re-asignación**.  El allocation nunca debe sumar más \n",
    "de uno.  No incluir un ticker se infiere como peso 0."
   ]
  },
  {
   "cell_type": "code",
   "execution_count": null,
   "metadata": {},
   "outputs": [],
   "source": [
    "def gen_alloc_data(ticker, alloc):\n",
    "    return {'ticker': ticker,\n",
    "            'alloc': alloc}"
   ]
  },
  {
   "cell_type": "code",
   "execution_count": null,
   "metadata": {},
   "outputs": [],
   "source": [
    "tickers = ['TEF','SAN','IBE','ITX','REP','AMS']"
   ]
  },
  {
   "cell_type": "code",
   "execution_count": null,
   "metadata": {},
   "outputs": [],
   "source": [
    "market = 'IBEX'"
   ]
  },
  {
   "cell_type": "markdown",
   "metadata": {},
   "source": [
    "Formato de una asignación. En este ejemplo generaremos \n",
    "la misma asignación una vez al mes durante 3 meses para\n",
    "que la cartera quede rebalanceada cada vez, guardando \n",
    "un 10% de efectivo"
   ]
  },
  {
   "cell_type": "code",
   "execution_count": null,
   "metadata": {},
   "outputs": [],
   "source": [
    "allocation = [gen_alloc_data(tk, 0.15) for tk in tickers]\n",
    "allocation"
   ]
  },
  {
   "cell_type": "code",
   "execution_count": null,
   "metadata": {},
   "outputs": [],
   "source": [
    "days = pd.date_range('2019-10-01', '2019-12-31', freq='BMS')"
   ]
  },
  {
   "cell_type": "code",
   "execution_count": null,
   "metadata": {},
   "outputs": [],
   "source": [
    "days"
   ]
  },
  {
   "cell_type": "markdown",
   "metadata": {},
   "source": [
    "Ponemos las fechas con formato: '%Y-%m-%d'"
   ]
  },
  {
   "cell_type": "code",
   "execution_count": null,
   "metadata": {},
   "outputs": [],
   "source": [
    "days[0].strftime('%Y-%m-%d')"
   ]
  },
  {
   "cell_type": "markdown",
   "metadata": {},
   "source": [
    "Mandamos las allocations:"
   ]
  },
  {
   "cell_type": "code",
   "execution_count": null,
   "metadata": {},
   "outputs": [],
   "source": [
    "url = f'{url_base}/participants/allocation'\n",
    "url_auth = f'{url}?key={user_key}'\n",
    "print(url_auth)\n",
    "\n",
    "for iday in days:\n",
    "    str_date = iday.strftime('%Y-%m-%d')\n",
    "    params = {\n",
    "        'competi': competi,\n",
    "        'algo_tag': algo_tag,\n",
    "        'market': market,\n",
    "        'date': str_date,\n",
    "        'allocation': allocation\n",
    "    }\n",
    "    #print(json.dumps(params))\n",
    "    response = requests.post(url_auth, data=json.dumps(params))\n",
    "    print (response.json())"
   ]
  },
  {
   "cell_type": "markdown",
   "metadata": {},
   "source": [
    "### Consultar las asignaciones de pesos registradas ###"
   ]
  },
  {
   "cell_type": "code",
   "execution_count": null,
   "metadata": {},
   "outputs": [],
   "source": [
    "url = f'{url_base}/participants/algo_allocations'\n",
    "params = {\n",
    "    'key': user_key,\n",
    "    'competi': competi,\n",
    "    'algo_tag': algo_tag,\n",
    "    'market': market,\n",
    "}"
   ]
  },
  {
   "cell_type": "code",
   "execution_count": null,
   "metadata": {},
   "outputs": [],
   "source": [
    "response = requests.get(url, params)"
   ]
  },
  {
   "cell_type": "code",
   "execution_count": null,
   "metadata": {},
   "outputs": [],
   "source": [
    "def allocs_to_frame(json_allocations):\n",
    "    alloc_list = []\n",
    "    for json_alloc in json_allocations:\n",
    "        #print(json_alloc)\n",
    "        allocs = pd.DataFrame(json_alloc['allocations'])\n",
    "        allocs.set_index('ticker', inplace=True)\n",
    "        alloc_serie = allocs['alloc']\n",
    "        alloc_serie.name = json_alloc['date'] \n",
    "        alloc_list.append(alloc_serie)\n",
    "    all_alloc_df = pd.concat(alloc_list, axis=1).T\n",
    "    return all_alloc_df"
   ]
  },
  {
   "cell_type": "code",
   "execution_count": null,
   "metadata": {},
   "outputs": [],
   "source": [
    "allocs_to_frame(response.json())"
   ]
  },
  {
   "cell_type": "markdown",
   "metadata": {},
   "source": [
    "### Verificar el algoritmo ###\n",
    "Es una ejecución del algoritmo convirtiendo las asignaciones\n",
    "en ordenes de compra y venta. Este paso no es necesario ejecutarlo\n",
    "solo lo realiza el usuario en caso que quiera pre-visualizar su \n",
    "resultado"
   ]
  },
  {
   "cell_type": "markdown",
   "metadata": {},
   "source": [
    "**Actualización API**: Debido a algunas restricciones de timeout de google cloud hemos actualizado este endpoint. El resultado saldrá inmediatamente si entra dentro del tiempo y sino se debe consultar con el endpoint *algo_exec_result*. Ver ejemplo más abajo"
   ]
  },
  {
   "cell_type": "markdown",
   "metadata": {},
   "source": [
    "#### Ejecutar el backtesting"
   ]
  },
  {
   "cell_type": "code",
   "execution_count": null,
   "metadata": {},
   "outputs": [],
   "source": [
    "url = f'{url_base}/participants/exec_algo'\n",
    "url_auth = f'{url}?key={user_key}'\n",
    "params = {\n",
    "    'competi': competi,\n",
    "    'algo_tag': algo_tag,\n",
    "    'market': market,\n",
    "    }"
   ]
  },
  {
   "cell_type": "code",
   "execution_count": null,
   "metadata": {},
   "outputs": [],
   "source": [
    "response = requests.post(url_auth, data=json.dumps(params))"
   ]
  },
  {
   "cell_type": "code",
   "execution_count": null,
   "metadata": {},
   "outputs": [],
   "source": [
    "if response.status_code == 200:\n",
    "    exec_data = response.json()\n",
    "    status = exec_data.get('status')\n",
    "    print(status)\n",
    "else:\n",
    "    exec_data = dict()\n",
    "    print(response.text)"
   ]
  },
  {
   "cell_type": "markdown",
   "metadata": {},
   "source": [
    "La ejecución guarda una fecha de ejecución y un status. Cuando termina satisfactoriamente la clave 'content' tiene el resultado y los trades  "
   ]
  },
  {
   "cell_type": "code",
   "execution_count": null,
   "metadata": {},
   "outputs": [],
   "source": [
    "res_data = exec_data.get('content')\n",
    "trades = None\n",
    "if res_data:\n",
    "    print(pd.Series(res_data['result']))\n",
    "    trades = pd.DataFrame(res_data['trades'])\n",
    "trades"
   ]
  },
  {
   "cell_type": "markdown",
   "metadata": {},
   "source": [
    "**Observacion**: Los algoritmos con muchas órdenes pueden no ejecutarse antes de 60 segundos, tiempo de timeout de las llamadas recibidas en google cloud.  En caso de recibir un error de timeout se puede obtener el resultado después de unos minutos, utilizando  el end_point a continuación"
   ]
  },
  {
   "cell_type": "markdown",
   "metadata": {},
   "source": [
    "#### Ver el resultado del último backtesting"
   ]
  },
  {
   "cell_type": "code",
   "execution_count": null,
   "metadata": {},
   "outputs": [],
   "source": [
    "url = f'{url_base}/participants/algo_exec_results'\n",
    "params = {\n",
    "    'key': user_key,\n",
    "    'competi': competi,\n",
    "    'algo_tag': algo_tag,\n",
    "    'market': market,\n",
    "}"
   ]
  },
  {
   "cell_type": "markdown",
   "metadata": {},
   "source": [
    "Pasados unos 5 minutos"
   ]
  },
  {
   "cell_type": "code",
   "execution_count": null,
   "metadata": {},
   "outputs": [],
   "source": [
    "response = requests.get(url, params)\n",
    "exec_data = response.json()\n",
    "print(exec_data.get('status'))\n",
    "print(exec_data.get('content'))"
   ]
  },
  {
   "cell_type": "markdown",
   "metadata": {},
   "source": [
    "### Re-iniciar las asginaciones para un algoritmo ###\n",
    "En caso que se quiera reiniciar el algoritmo hay que \n",
    "eliminar todas las asignaciones incluyendo el mercado \n",
    "correspondiente"
   ]
  },
  {
   "cell_type": "code",
   "execution_count": null,
   "metadata": {},
   "outputs": [],
   "source": [
    "url = f'{url_base}/participants/delete_allocations'\n",
    "url_auth = f'{url}?key={user_key}'\n",
    "\n",
    "params = {\n",
    "    'competi': competi,\n",
    "    'algo_tag': algo_tag,\n",
    "    'market': market,\n",
    "    }\n",
    "response = requests.post(url_auth, data=json.dumps(params))"
   ]
  },
  {
   "cell_type": "code",
   "execution_count": null,
   "metadata": {},
   "outputs": [],
   "source": [
    "response.text"
   ]
  }
 ],
 "metadata": {
  "kernelspec": {
   "display_name": "Python 3 (ipykernel)",
   "language": "python",
   "name": "python3"
  },
  "language_info": {
   "codemirror_mode": {
    "name": "ipython",
    "version": 3
   },
   "file_extension": ".py",
   "mimetype": "text/x-python",
   "name": "python",
   "nbconvert_exporter": "python",
   "pygments_lexer": "ipython3",
   "version": "3.7.3"
  }
 },
 "nbformat": 4,
 "nbformat_minor": 4
}
