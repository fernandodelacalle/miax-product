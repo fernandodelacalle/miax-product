{
 "cells": [
  {
   "cell_type": "markdown",
   "metadata": {},
   "source": [
    "### Ejercicios Dia 1 Solución"
   ]
  },
  {
   "cell_type": "code",
   "execution_count": 1,
   "metadata": {},
   "outputs": [],
   "source": [
    "import requests\n",
    "import json\n",
    "import pandas as pd"
   ]
  },
  {
   "cell_type": "code",
   "execution_count": 2,
   "metadata": {},
   "outputs": [],
   "source": [
    "# Esta parte sirve para configurar los logs\n",
    "import logging\n",
    "\n",
    "def config_logging():\n",
    "    log_format = ('%(asctime)s %(name)s.%(funcName)s[%(process)d] '\n",
    "                      '%(levelname)s %(message)s')\n",
    "    handlers = list()\n",
    "    handlers.append(logging.StreamHandler())\n",
    "    logging.basicConfig(level=logging.INFO,\n",
    "                        format=log_format,\n",
    "                        handlers=handlers)\n",
    "\n",
    "config_logging()   "
   ]
  },
  {
   "cell_type": "code",
   "execution_count": 4,
   "metadata": {},
   "outputs": [],
   "source": []
  },
  {
   "cell_type": "code",
   "execution_count": 5,
   "metadata": {},
   "outputs": [],
   "source": [
    "from api_handler import APIBMEHandler"
   ]
  },
  {
   "cell_type": "code",
   "execution_count": 6,
   "metadata": {},
   "outputs": [],
   "source": [
    "def gen_alloc_data(ticker, alloc):\n",
    "    return {'ticker': ticker,\n",
    "            'alloc': alloc}"
   ]
  },
  {
   "cell_type": "code",
   "execution_count": 6,
   "metadata": {},
   "outputs": [],
   "source": [
    "# Clase de un equally weighted, como parametros tiene el algo_tag, la frecuencia de rebalanceo y el mercado\n",
    "class EqWAlgo:\n",
    "    \n",
    "    def __init__(self, algo_tag, rebal_freq=200, market='IBEX'):\n",
    "        self.api_handler = APIBMEHandler(market=market, algo_tag=algo_tag)\n",
    "        self.market = market\n",
    "        self.algo_tag = algo_tag     \n",
    "        self.rebal_freq = rebal_freq \n",
    "        self.data_close = None\n",
    "    \n",
    "    def insert_allocs(self):      \n",
    "        data_rebalance = self.data_close.iloc[::self.rebal_freq]\n",
    "        for date, prices_date in data_rebalance.iterrows():\n",
    "            prices_date = prices_date.dropna()\n",
    "            alloc = 1/prices_date.shape[0]\n",
    "            alloc_list = [\n",
    "                gen_alloc_data(tck, alloc) for tck in prices_date.index\n",
    "            ]\n",
    "            str_date = date.strftime('%Y-%m-%d')\n",
    "            self.api_handler.post_alloc(str_date, alloc_list)\n",
    "    \n",
    "    def run_bt(self):\n",
    "        result = self.api_handler.run_backtest()\n",
    "        return result\n",
    "    \n",
    "    def run_algo(self):\n",
    "        self.api_handler.delete_allocs()\n",
    "        self.data_close = self.api_handler.get_close_data()\n",
    "        self.insert_allocs()\n",
    "        self.run_bt()   "
   ]
  },
  {
   "cell_type": "code",
   "execution_count": 7,
   "metadata": {},
   "outputs": [],
   "source": [
    "eqw = EqWAlgo(market='DAX', rebal_freq=200, algo_tag='fcalletest_algo1')"
   ]
  },
  {
   "cell_type": "code",
   "execution_count": 8,
   "metadata": {},
   "outputs": [
    {
     "name": "stdout",
     "output_type": "stream",
     "text": [
      "<Response [200]>\n"
     ]
    },
    {
     "name": "stderr",
     "output_type": "stream",
     "text": [
      "2020-08-01 11:18:36,527 api_handler.get_close_data[8849] INFO 1COV.DE\n",
      "2020-08-01 11:18:36,811 api_handler.get_close_data[8849] INFO ADSGn.DE\n",
      "2020-08-01 11:18:37,097 api_handler.get_close_data[8849] INFO ALVG.DE\n",
      "2020-08-01 11:18:37,371 api_handler.get_close_data[8849] INFO BASFn.DE\n",
      "2020-08-01 11:18:37,657 api_handler.get_close_data[8849] INFO BAYGn.DE\n",
      "2020-08-01 11:18:37,935 api_handler.get_close_data[8849] INFO BEIG.DE\n",
      "2020-08-01 11:18:38,185 api_handler.get_close_data[8849] INFO BMWG.DE\n",
      "2020-08-01 11:18:38,464 api_handler.get_close_data[8849] INFO CBKG.DE\n",
      "2020-08-01 11:18:38,765 api_handler.get_close_data[8849] INFO CECG.DE\n",
      "2020-08-01 11:18:39,044 api_handler.get_close_data[8849] INFO CONG.DE\n",
      "2020-08-01 11:18:39,292 api_handler.get_close_data[8849] INFO DAIGn.DE\n",
      "2020-08-01 11:18:39,659 api_handler.get_close_data[8849] INFO DB11.DE^D17\n",
      "2020-08-01 11:18:39,860 api_handler.get_close_data[8849] INFO DB1Gn.DE\n",
      "2020-08-01 11:18:40,079 api_handler.get_close_data[8849] INFO DB1Gn.DE_0\n",
      "2020-08-01 11:18:42,201 api_handler.get_close_data[8849] INFO DB1Gn.DE_1\n",
      "2020-08-01 11:18:42,423 api_handler.get_close_data[8849] INFO DB1Gne.DE^B12\n",
      "2020-08-01 11:18:49,979 api_handler.get_close_data[8849] INFO DBKGn.DE\n",
      "2020-08-01 11:18:50,413 api_handler.get_close_data[8849] INFO DPWGn.DE\n",
      "2020-08-01 11:18:57,608 api_handler.get_close_data[8849] INFO DTEGn.DE\n",
      "2020-08-01 11:18:57,871 api_handler.get_close_data[8849] INFO DWNI.DE\n",
      "2020-08-01 11:18:58,074 api_handler.get_close_data[8849] INFO EONGn.DE\n",
      "2020-08-01 11:18:58,338 api_handler.get_close_data[8849] INFO FMEG.DE\n",
      "2020-08-01 11:18:58,619 api_handler.get_close_data[8849] INFO FREG.DE\n",
      "2020-08-01 11:18:58,916 api_handler.get_close_data[8849] INFO FREG_p.DE^A11\n",
      "2020-08-01 11:18:59,126 api_handler.get_close_data[8849] INFO HEIG.DE\n",
      "2020-08-01 11:18:59,393 api_handler.get_close_data[8849] INFO HNKG_p.DE\n",
      "2020-08-01 11:18:59,640 api_handler.get_close_data[8849] INFO IFXGn.DE\n",
      "2020-08-01 11:18:59,879 api_handler.get_close_data[8849] INFO LHAG.DE\n",
      "2020-08-01 11:19:00,160 api_handler.get_close_data[8849] INFO LING.DE^D19\n",
      "2020-08-01 11:19:00,455 api_handler.get_close_data[8849] INFO LINI.DE\n",
      "2020-08-01 11:19:00,648 api_handler.get_close_data[8849] INFO LXSG.DE\n",
      "2020-08-01 11:19:00,842 api_handler.get_close_data[8849] INFO MANG.DE\n",
      "2020-08-01 11:19:01,118 api_handler.get_close_data[8849] INFO MRCG.DE\n",
      "2020-08-01 11:19:01,370 api_handler.get_close_data[8849] INFO MTXGn.DE\n",
      "2020-08-01 11:19:01,544 api_handler.get_close_data[8849] INFO MUVGn.DE\n",
      "2020-08-01 11:19:01,808 api_handler.get_close_data[8849] INFO PSMGn.DE\n",
      "2020-08-01 11:19:02,201 api_handler.get_close_data[8849] INFO RWEG.DE\n",
      "2020-08-01 11:19:02,469 api_handler.get_close_data[8849] INFO SAPG.DE\n",
      "2020-08-01 11:19:02,740 api_handler.get_close_data[8849] INFO SDFGn.DE\n",
      "2020-08-01 11:19:02,947 api_handler.get_close_data[8849] INFO SIEGn.DE\n",
      "2020-08-01 11:19:03,200 api_handler.get_close_data[8849] INFO SZGG.DE\n",
      "2020-08-01 11:19:03,380 api_handler.get_close_data[8849] INFO TKAG.DE\n",
      "2020-08-01 11:19:03,868 api_handler.get_close_data[8849] INFO VNAn.DE\n",
      "2020-08-01 11:19:04,083 api_handler.get_close_data[8849] INFO VOWG_p.DE\n",
      "2020-08-01 11:19:04,322 api_handler.get_close_data[8849] INFO WDIG.DE\n"
     ]
    },
    {
     "name": "stdout",
     "output_type": "stream",
     "text": [
      "{'date': '2010-01-04', 'result': True}\n",
      "{'date': '2010-10-13', 'result': True}\n",
      "{'date': '2011-07-26', 'result': True}\n",
      "{'date': '2012-05-07', 'result': True}\n",
      "{'date': '2013-02-18', 'result': True}\n",
      "{'date': '2013-11-28', 'result': True}\n",
      "{'date': '2014-09-16', 'result': True}\n",
      "{'date': '2015-07-07', 'result': True}\n",
      "{'date': '2016-04-20', 'result': True}\n",
      "{'date': '2017-01-30', 'result': True}\n",
      "{'date': '2017-11-14', 'result': True}\n",
      "{'date': '2018-08-30', 'result': True}\n",
      "{'date': '2019-06-20', 'result': True}\n",
      "{'date': '2020-04-03', 'result': True}\n",
      "executed\n",
      "annualized_total_return    0.020387\n",
      "alpha_benchmark           -0.007867\n",
      "sharpe_ratio               0.146564\n",
      "n_order/year               9.595983\n",
      "dtype: float64\n"
     ]
    }
   ],
   "source": [
    "# RUN ALGO: borra las allocs existentes, crea las nuevas, las inserta y ejecuta el backtesting\n",
    "eqw.run_algo()"
   ]
  }
 ],
 "metadata": {
  "kernelspec": {
   "display_name": "Python 3",
   "language": "python",
   "name": "python3"
  },
  "language_info": {
   "codemirror_mode": {
    "name": "ipython",
    "version": 3
   },
   "file_extension": ".py",
   "mimetype": "text/x-python",
   "name": "python",
   "nbconvert_exporter": "python",
   "pygments_lexer": "ipython3",
   "version": "3.7.3"
  }
 },
 "nbformat": 4,
 "nbformat_minor": 4
}
