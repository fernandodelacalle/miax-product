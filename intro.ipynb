{
 "cells": [
  {
   "cell_type": "markdown",
   "metadata": {},
   "source": [
    "\r\n",
    "\r\n",
    "# 1. Práctica de Algoritmos de Inversión.\r\n",
    "\r\n",
    "Este conjunto de notebooks contiene las bases y la documentación para para participar en la competición del Máster de Inteligencia Artificial del Instituto BME.\r\n",
    "\r\n",
    "\r\n",
    "<center>\r\n",
    "<img src=\"./API_Practica/imgs/API.png\"  alt=\"drawing\" width=\"1000\"/>\r\n",
    "</center>\r\n",
    "\r\n",
    "\r\n",
    "Las fechas que riguen la competición son las siguientes:\r\n",
    "\r\n",
    "| Fechas        | Descripción  |\r\n",
    "| :------------ |:------------ |\r\n",
    "| **09-07-2021** |Entrega del enunciado|\r\n",
    "| **31-07-2021**   | Publicación de API y ejemplos |\r\n",
    "| **31-07-2021**    | Primer día de acceso. Los participantes pueden enviar o borrar órdenes históricas hasta la fecha actual |\r\n",
    "| **31-08-2021** |Entrega del código de los algoritmos en la plataforma del instituto|\r\n",
    "| **01-09-2021**   | Fecha inicio competición. Las órdenes históricas quedarán congeladas, y los participantes podrán enviar sus ordenes sólo en el día desde que estén disponibles los datos hasta las 9:00AM|\r\n",
    "| **28-02-2021**   | Fecha final de competición |\r\n",
    "\r\n",
    "Urls:\r\n",
    "\r\n",
    "| URL       | Descripción  |\r\n",
    "| :------------ |:------------ | \r\n",
    "|https://miax-gateway-jog4ew3z3q-ew.a.run.app | API|\r\n",
    "|https://front-jog4ew3z3q-ew.a.run.app/login | Interfaz web, disponible solo en periodo de competición|\r\n",
    "\r\n",
    "\r\n",
    "Para descargar los datos y enviar las asignaciones de la cartera de inversión debes conectarte via API. En los siguientes notebooks veremos ejemplos de uso:\r\n",
    "* [1.0.](./API_Practica/examples_python/data_example.ipynb) Ejemplos API Python Data.\r\n",
    "* [1.1.](./API_Practica/examples_python/algo_example.ipynb) Ejemplos API Python Algo.\r\n",
    "* [1.2.](./API_Practica/examples_python/error_interpretation.ipynb) Ejemplos API Python Errores.\r\n",
    "* [1.3.](./API_Practica/examples_r/ejemplo_R.R) Ejemplos API R.\r\n",
    "* [1.4.](./API_Practica/ejercicios/ejercicio_algos.ipynb) Ejercicio.\r\n",
    "* [SOL](./API_Practica/ejercicios/solucion/ejercicio_solucion.ipynb) Ejercicio.\r\n",
    "\r\n",
    "\r\n",
    "# 2. Principios de Desarrollo: Python.\r\n",
    "* [2.1.](python_prod/logging/1_01.ipynb) Modulo de Logging.\r\n",
    "* [2.2.](python_prod/pytest/1_02.ipynb) Test unitarios con Pytest.\r\n",
    "* [2.3.](python_prod/venv/virtual_enviroments.ipynb) Virtual Enviroments en Python\r\n",
    "\r\n",
    "\r\n",
    "# 2. Principios de Desarrollo: Utilidades.\r\n",
    "* [2.1.](./principios_de_desarrollo/intro_terminal.ipynb) Introducción a la Terminal de Comandos\r\n",
    "* [2.3.](./principios_de_desarrollo/cron/cron.ipynb) Cron y Cronjobs.\r\n",
    "* [2.4.](./principios_de_desarrollo/intro_git.ipynb) Introducción a Git.\r\n",
    "* [2.5.](./principios_de_desarrollo/intro_docker.ipynb) Introducción a Docker.\r\n",
    "\r\n",
    "\r\n"
   ]
  }
 ],
 "metadata": {
  "kernelspec": {
   "display_name": "Python 3",
   "language": "python",
   "name": "python3"
  },
  "language_info": {
   "codemirror_mode": {
    "name": "ipython",
    "version": 3
   },
   "file_extension": ".py",
   "mimetype": "text/x-python",
   "name": "python",
   "nbconvert_exporter": "python",
   "pygments_lexer": "ipython3",
   "version": "3.8.8"
  }
 },
 "nbformat": 4,
 "nbformat_minor": 4
}
