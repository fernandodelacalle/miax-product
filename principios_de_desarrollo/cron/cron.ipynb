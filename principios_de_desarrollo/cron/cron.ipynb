{
 "cells": [
  {
   "cell_type": "markdown",
   "metadata": {},
   "source": [
    "# CRONJOBS"
   ]
  },
  {
   "cell_type": "markdown",
   "metadata": {},
   "source": [
    "- Para ejecutar algo en un horario determinado existen múltiples opciones.\n",
    "- Lo ideal es ponerlo en cloud (siguiente módulo de Master).\n",
    "- Si tenéis un Linux o Mac podéis usar crontab."
   ]
  },
  {
   "cell_type": "markdown",
   "metadata": {},
   "source": [
    "### Crontab"
   ]
  },
  {
   "cell_type": "markdown",
   "metadata": {},
   "source": [
    "- Usamos el comando:\n",
    "  ```bash  \n",
    "    crontab -e\n",
    "```\n",
    "- Tenemos que editar para poner:\n",
    "    ```bash \n",
    "    * * * * * python /path/mi_algo.py\n",
    "    ```\n",
    "    Donde * * * * *:\n",
    "    ```bash\n",
    "    * * * * * command* - minute (0-59)\n",
    "    * - hour (0-23)\n",
    "    * - day of the month (1-31)\n",
    "    * - month (1-12)\n",
    "    * - day of the week (0-6, 0 is Sunday)\n",
    "    command - command to execute\n",
    "    ```\n",
    "  Se puede entender mejor en: https://crontab.guru/\n",
    "- Por ejemplo:\n",
    "```bash\n",
    "01 9 * * 1-5 python /path/mi_algo.py\n",
    "```\n",
    "Ejecutaria de lunes a viernes a las 9:01 el comando /path/mi_algo.py.\n",
    "\n",
    "\n",
    "- Para editar con vim: i para entrar, editamos, salimos con esc y guardamos cons :wq\n",
    "- Si queremos tener guardados los logs podemos poner:\n",
    "```bash\n",
    "01 9 * * 1-5 python /path/mi_algo.py > /path/mi_algo/logs/cron_`date +\\%Y-\\%m-\\%d_\\%H:\\%M:\\%S`.log 2>&1\n",
    "```\n",
    "\n",
    "- Si queremos ver nuestros crons utilizamos el comando:\n",
    "  ```bash  \n",
    "    crontab -l\n",
    "```\n",
    "\n",
    "- Ejemplo:\n",
    "  ```bash  \n",
    "    */1 * * * * python3 /home/fernando_decalle/test.py > /home/fernando_decalle/cron_`date +\\%Y-\\%m-\\%d_\\%H:\\%M:\\%S`.log 2>&1 \n",
    "  ```\n",
    "  Ejecuta el programa python /home/fernando_decalle/test.py cada minuto y guarda un log cada vez que se ejecuta."
   ]
  },
  {
   "cell_type": "markdown",
   "metadata": {},
   "source": [
    "### Pycron"
   ]
  },
  {
   "cell_type": "markdown",
   "metadata": {},
   "source": [
    "- Funcionalidad de cron en python, pero el programa siempre tiene que estar ejecutándose."
   ]
  },
  {
   "cell_type": "code",
   "execution_count": null,
   "metadata": {},
   "outputs": [],
   "source": [
    "!pip install pycron"
   ]
  },
  {
   "cell_type": "code",
   "execution_count": null,
   "metadata": {},
   "outputs": [],
   "source": [
    "import pycron\n",
    "import time\n",
    "\n",
    "import datetime\n",
    "\n",
    "while True:\n",
    "    if pycron.is_now('*/1 * * * *'):  # True every 1 minutes\n",
    "        print(f'HOLA minuto {datetime.datetime.now()}')\n",
    "        time.sleep(60)\n",
    "\n",
    "# Otros ejemplos:\n",
    "#pycron.is_now('0 * * * *')    # True every hour, on minute 0"
   ]
  }
 ],
 "metadata": {
  "kernelspec": {
   "display_name": "Python 3",
   "language": "python",
   "name": "python3"
  },
  "language_info": {
   "codemirror_mode": {
    "name": "ipython",
    "version": 3
   },
   "file_extension": ".py",
   "mimetype": "text/x-python",
   "name": "python",
   "nbconvert_exporter": "python",
   "pygments_lexer": "ipython3",
   "version": "3.7.3"
  }
 },
 "nbformat": 4,
 "nbformat_minor": 4
}
