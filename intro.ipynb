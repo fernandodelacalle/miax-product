{
 "cells": [
  {
   "cell_type": "markdown",
   "metadata": {},
   "source": [
    "\n",
    "\n",
    "# 1. Práctica de Algoritmos de Inversión.\n",
    "\n",
    "Este conjunto de notebooks contiene las bases y la documentación para para participar en la competición del Máster de Inteligencia Artificial del Instituto BME.  \n",
    "\n",
    "\n",
    "<center>\n",
    "<img src=\"./API_Practica/imgs/API.png\"  alt=\"drawing\" width=\"1000\"/>\n",
    "</center>\n",
    "\n",
    "\n",
    "Las fechas que riguen la competición son las siguientes:\n",
    "\n",
    "| Fechas        | Descripción  |\n",
    "| :------------ |:------------ | \n",
    "**05-2-2021** |Entrega del enunciado|\n",
    "|  **25-02-2021**   | Publicación de API y ejemplos |\n",
    "|  **25-02-2021**    | Primer día de acceso. Los participantes pueden enviar o borrar órdenes históricas hasta la fecha actual |\n",
    "|**21-03-2021** |Entrega del código de los algoritmos en la plataforma del instituto|\n",
    "|  **22-03-2021**   | Fecha inicio competición. Las órdenes históricas quedarán congeladas, y los participantes podrán enviar sus ordenes sólo en el día desde que estén disponibles los datos hasta las 9:00AM|\n",
    "| **03-09-2021**   | Fecha final de competición |\n",
    "\n",
    "Urls:\n",
    "\n",
    "| URL       | Descripción  |\n",
    "| :------------ |:------------ | \n",
    "|https://miax-gateway-jog4ew3z3q-ew.a.run.app | API|\n",
    "|https://front-jog4ew3z3q-ew.a.run.app/login | Interfaz web, disponible solo en periodo de competición|\n",
    "\n",
    "\n",
    "Para descargar los datos y enviar las asignaciones de la cartera de inversión debes conectarte via API. En los siguientes notebooks veremos ejemplos de uso:\n",
    "* [1.0.](./API_Practica/examples_python/data_example.ipynb) Ejemplos API Python Data.\n",
    "* [1.1.](./API_Practica/examples_python/algo_example.ipynb) Ejemplos API Python Algo.\n",
    "* [1.2.](./API_Practica/examples_python/error_interpretation.ipynb) Ejemplos API Python Errores.\n",
    "* [1.3.](./API_Practica/examples_r/ejemplo_R.R) Ejemplos API R.\n",
    "* [1.4.](./API_Practica/ejercicios/ejercico_dia_1.ipynb) Ejercicios Día I.\n",
    "\n",
    "\n",
    "\n",
    "# 2. Principios de Desarrollo.\n",
    "* [2.1.](./principios_de_desarrollo/intro_terminal.ipynb) Introducción a la Terminal de Comandos\n",
    "* [2.2.](./principios_de_desarrollo/virtual_enviroments.ipynb) Virtual Enviroments en Python\n",
    "* [2.3.](./principios_de_desarrollo/cron/cron.ipynb) Cron y Cronjobs.\n",
    "* [2.4.](./principios_de_desarrollo/intro_git.ipynb) Introducción a Git\n",
    "* [2.5.](./principios_de_desarrollo/intro_docker.ipynb) Introducción a Docker\n",
    "\n",
    "\n"
   ]
  }
 ],
 "metadata": {
  "kernelspec": {
   "display_name": "Python 3",
   "language": "python",
   "name": "python3"
  },
  "language_info": {
   "codemirror_mode": {
    "name": "ipython",
    "version": 3
   },
   "file_extension": ".py",
   "mimetype": "text/x-python",
   "name": "python",
   "nbconvert_exporter": "python",
   "pygments_lexer": "ipython3",
   "version": "3.7.3"
  }
 },
 "nbformat": 4,
 "nbformat_minor": 4
}
