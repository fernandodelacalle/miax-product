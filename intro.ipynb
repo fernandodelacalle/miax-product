{
 "cells": [
  {
   "cell_type": "markdown",
   "metadata": {},
   "source": [
    "\n",
    "\n",
    "# 1. Práctica de Algoritmos de Inversión.\n",
    "\n",
    "Este conjunto de notebooks contiene las bases y la documentación para para participar en la competición del Máster de Inteligencia Artificial del Instituto BME.\n",
    "\n",
    "\n",
    "<center>\n",
    "<img src=\"./API_Practica/imgs/API.png\"  alt=\"drawing\" width=\"1000\"/>\n",
    "</center>\n",
    "\n",
    "Solo evaluarán algoritmos contra el IBEX35, pero podemos probarlos en los otros índices.\n",
    "\n",
    "Las fechas que riguen la competición son las siguientes:\n",
    "\n",
    "| Fechas        | Descripción  |\n",
    "| :------------ |:------------ |\n",
    "| **20-01-2023** |Entrega del enunciado|\n",
    "| **28-01-2023**   | Publicación de API y ejemplos |\n",
    "| **28-01-2023**    | Primer día de acceso. Los participantes pueden enviar o borrar órdenes históricas hasta la fecha actual |\n",
    "| **02-04-2023** |Entrega del código de los algoritmos en la plataforma del instituto|\n",
    "| **03-04-2023**   | Fecha inicio competición. Las órdenes históricas quedarán congeladas, y los participantes podrán enviar sus ordenes sólo en el día desde que estén disponibles los datos hasta las 9:00AM|\n",
    "| **30-04-2023**   | Actualización del código de los algoritmos (opcional) |\n",
    "| **03-11-2023**   | Fecha final de competición |\n",
    "\n",
    "Urls:\n",
    "\n",
    "| URL       | Descripción  |\n",
    "| :------------ |:------------ | \n",
    "|https://miax-gateway-jog4ew3z3q-ew.a.run.app | API|\n",
    "|https://front-jog4ew3z3q-ew.a.run.app/login | Interfaz web, disponible solo en periodo de competición|\n",
    "\n",
    "\n",
    "Para descargar los datos y enviar las asignaciones de la cartera de inversión debes conectarte via API. En los siguientes notebooks veremos ejemplos de uso:\n",
    "* [1.0.](./API_Practica/examples_python/1_data_example.ipynb) Ejemplos API Python Data.\n",
    "* [1.1.](./API_Practica/examples_python/2_algo_example.ipynb) Ejemplos API Python Algo.\n",
    "* [1.2.](./API_Practica/examples_python/3_error_interpretation.ipynb) Ejemplos API Python Errores.\n",
    "* [1.3.](./API_Practica/examples_r/ejemplo_R.R) Ejemplos API R.\n",
    "* [1.4.](./API_Practica/ejercicios/ejercicio_algos.ipynb) Ejercicio.\n",
    "\n",
    "# Despliege Simplifcado en Máquinas Vituales.\n",
    "* [2.1.](despliege_simple_gcloud/steps_to_gcloud.md) Despliege Simplifcado en Máquinas Vituales.\n",
    "\n"
   ]
  }
 ],
 "metadata": {
  "kernelspec": {
   "display_name": "Python 3 (ipykernel)",
   "language": "python",
   "name": "python3"
  },
  "language_info": {
   "codemirror_mode": {
    "name": "ipython",
    "version": 3
   },
   "file_extension": ".py",
   "mimetype": "text/x-python",
   "name": "python",
   "nbconvert_exporter": "python",
   "pygments_lexer": "ipython3",
   "version": "3.10.9"
  },
  "vscode": {
   "interpreter": {
    "hash": "5c7b89af1651d0b8571dde13640ecdccf7d5a6204171d6ab33e7c296e100e08a"
   }
  }
 },
 "nbformat": 4,
 "nbformat_minor": 4
}
